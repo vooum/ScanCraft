{
 "cells": [
  {
   "cell_type": "code",
   "execution_count": 1,
   "metadata": {},
   "outputs": [],
   "source": [
    "%matplotlib inline\n",
    "%load_ext autoreload\n",
    "%autoreload 2\n",
    "\n",
    "import sys,pandas,os\n",
    "sys.path.append('/home/heyangle/Desktop/ScanCraft/ScanCraft')\n",
    "sys.path.append('/home/vooum/Desktop/ScanCraft/ScanCraft')\n",
    "sys.path.append('C://Users//vooum//Desktop//ScanCraft//ScanCraft')"
   ]
  },
  {
   "cell_type": "code",
   "execution_count": 2,
   "metadata": {},
   "outputs": [],
   "source": [
    "import subprocess"
   ]
  },
  {
   "cell_type": "code",
   "execution_count": 3,
   "metadata": {},
   "outputs": [],
   "source": [
    "path='/home/vooum/Desktop/ScanCraft/ScanCraft/packages/NMSSMTools_5.5.2'"
   ]
  },
  {
   "cell_type": "code",
   "execution_count": 5,
   "metadata": {},
   "outputs": [],
   "source": [
    "run=subprocess.run('make init',cwd=path,shell=True)\n",
    "run=subprocess.run('make',cwd=path,shell=True)"
   ]
  },
  {
   "cell_type": "code",
   "execution_count": 42,
   "metadata": {},
   "outputs": [],
   "source": [
    "stdout=open('stdout','w')"
   ]
  },
  {
   "cell_type": "code",
   "execution_count": 43,
   "metadata": {},
   "outputs": [],
   "source": [
    "run=subprocess.Popen('make clean', stdin=subprocess.PIPE, stdout=stdout, stderr=stdout, cwd=path, shell=True)"
   ]
  },
  {
   "cell_type": "code",
   "execution_count": 44,
   "metadata": {},
   "outputs": [],
   "source": [
    "out=run.communicate(b'y\\ny\\n')"
   ]
  },
  {
   "cell_type": "code",
   "execution_count": 45,
   "metadata": {},
   "outputs": [
    {
     "data": {
      "text/plain": [
       "(None, None)"
      ]
     },
     "execution_count": 45,
     "metadata": {},
     "output_type": "execute_result"
    }
   ],
   "source": [
    "out"
   ]
  },
  {
   "cell_type": "code",
   "execution_count": 46,
   "metadata": {},
   "outputs": [
    {
     "data": {
      "text/plain": [
       "0"
      ]
     },
     "execution_count": 46,
     "metadata": {},
     "output_type": "execute_result"
    }
   ],
   "source": [
    "run.returncode"
   ]
  },
  {
   "cell_type": "code",
   "execution_count": 36,
   "metadata": {},
   "outputs": [
    {
     "ename": "TypeError",
     "evalue": "decoding to str: need a bytes-like object, NoneType found",
     "output_type": "error",
     "traceback": [
      "\u001b[0;31m---------------------------------------------------------------------------\u001b[0m",
      "\u001b[0;31mTypeError\u001b[0m                                 Traceback (most recent call last)",
      "\u001b[0;32m<ipython-input-36-3f72220f358f>\u001b[0m in \u001b[0;36m<module>\u001b[0;34m\u001b[0m\n\u001b[0;32m----> 1\u001b[0;31m \u001b[0mprint\u001b[0m\u001b[0;34m(\u001b[0m\u001b[0mstr\u001b[0m\u001b[0;34m(\u001b[0m\u001b[0mout\u001b[0m\u001b[0;34m[\u001b[0m\u001b[0;36m0\u001b[0m\u001b[0;34m]\u001b[0m\u001b[0;34m,\u001b[0m\u001b[0mencoding\u001b[0m \u001b[0;34m=\u001b[0m \u001b[0;34m\"utf8\"\u001b[0m\u001b[0;34m)\u001b[0m\u001b[0;34m)\u001b[0m\u001b[0;34m\u001b[0m\u001b[0;34m\u001b[0m\u001b[0m\n\u001b[0m",
      "\u001b[0;31mTypeError\u001b[0m: decoding to str: need a bytes-like object, NoneType found"
     ]
    }
   ],
   "source": [
    "print(str(out[0],encoding = \"utf8\"))"
   ]
  },
  {
   "cell_type": "code",
   "execution_count": 37,
   "metadata": {
    "collapsed": true
   },
   "outputs": [
    {
     "name": "stdout",
     "output_type": "stream",
     "text": [
      "unlink: cannot unlink 'work/bin': No such file or directory\n",
      "make[2]: [Makefile:16: clean] Error 1 (ignored)\n",
      "../include/modelMakefile:30: Main program is not specified. Use gmake main='<code of main program>'\n",
      "../include/modelMakefile:31: Default  main=main.c\n",
      "unlink: cannot unlink 'work/bin': No such file or directory\n",
      "make[2]: [../include/modelMakefile:70: clean] Error 1 (ignored)\n",
      "make[2]: *** No rule to make target 'clean'.  Stop.\n",
      "make[2]: *** No rule to make target 'clean'.  Stop.\n",
      "../include/modelMakefile:30: Main program is not specified. Use gmake main='<code of main program>'\n",
      "../include/modelMakefile:31: Default  main=main.c\n",
      "unlink: cannot unlink 'work/bin': No such file or directory\n",
      "make[2]: [../include/modelMakefile:70: clean] Error 1 (ignored)\n",
      "rm: cannot remove '*.o': No such file or directory\n",
      "rm: cannot remove 'lhep': No such file or directory\n",
      "rm: cannot remove 'SLHAplus/libSLHAplus.a': No such file or directory\n",
      "make[2]: *** [Makefile:41: clean] Error 1\n",
      "make[2]: *** No rule to make target 'clean'.  Stop.\n",
      "Makefile:35: Main program is not specified. Use gmake main='<code of main program>'\n",
      "Makefile:36: Default  main=main.c\n",
      "unlink: cannot unlink 'calchep/bin': Is a directory\n",
      "make[1]: [Makefile:74: clean] Error 1 (ignored)\n",
      "\n"
     ]
    }
   ],
   "source": [
    "print(str(out[1],encoding = \"utf8\"))"
   ]
  },
  {
   "cell_type": "code",
   "execution_count": 30,
   "metadata": {},
   "outputs": [
    {
     "data": {
      "text/plain": [
       "0"
      ]
     },
     "execution_count": 30,
     "metadata": {},
     "output_type": "execute_result"
    }
   ],
   "source": [
    "run.returncode"
   ]
  },
  {
   "cell_type": "code",
   "execution_count": 30,
   "metadata": {
    "collapsed": true
   },
   "outputs": [
    {
     "data": {
      "text/plain": [
       "(b'make -C sources/micromegas clean\\nmake[1]: Entering directory \\'/home/vooum/Desktop/ScanCraft/ScanCraft/packages/NMSSMTools_5.5.2/sources/micromegas\\'\\nrm -f include/microPath.h\\n./clean\\nRemove all generated files? (Y/N)\\nOK!\\nclean CalcHEP_src\\nmake[2]: Entering directory \\'/home/vooum/Desktop/ScanCraft/ScanCraft/packages/NMSSMTools_5.5.2/sources/micromegas/CalcHEP_src\\'\\nif(test -r FlagsForSh) then echo FlagsForSh - compiler flags; rm -i  FlagsForSh; fi\\nFlagsForSh - compiler flags\\n./sbin/setPath \" \"\\ncp calchep.ini work\\nmake[2]: Leaving directory \\'/home/vooum/Desktop/ScanCraft/ScanCraft/packages/NMSSMTools_5.5.2/sources/micromegas/CalcHEP_src\\'\\nclean NMSSM\\nmake[2]: Entering directory \\'/home/vooum/Desktop/ScanCraft/ScanCraft/packages/NMSSMTools_5.5.2/sources/micromegas/NMSSM\\'\\nrm -f  omega decay spectr inp nngg.out\\nrm -f  lib/nngg-nm4b/lGamma.exe\\n../sources/cleanexe\\nrm -f work/lanhep/*.mdl work/lanhep/masses.chk\\nrm -rf *.dSYM\\nmake -C lib  clean\\nmake[3]: Entering directory \\'/home/vooum/Desktop/ScanCraft/ScanCraft/packages/NMSSMTools_5.5.2/sources/micromegas/NMSSM/lib\\'\\nrm -f lpath.h *.o *.a  \\nmake -C nngg-nm4b clean\\nmake[4]: Entering directory \\'/home/vooum/Desktop/ScanCraft/ScanCraft/packages/NMSSMTools_5.5.2/sources/micromegas/NMSSM/lib/nngg-nm4b\\'\\nrm -f nngg.a util.a lGamma.exe *.o */*.o \\t\\nmake[4]: Leaving directory \\'/home/vooum/Desktop/ScanCraft/ScanCraft/packages/NMSSMTools_5.5.2/sources/micromegas/NMSSM/lib/nngg-nm4b\\'\\nmake[3]: Leaving directory \\'/home/vooum/Desktop/ScanCraft/ScanCraft/packages/NMSSMTools_5.5.2/sources/micromegas/NMSSM/lib\\'\\nmake -C work clean\\nmake[3]: Entering directory \\'/home/vooum/Desktop/ScanCraft/ScanCraft/packages/NMSSMTools_5.5.2/sources/micromegas/NMSSM/work\\'\\nrm -f *.a *.o  lock_ LOCK tmp/*  so_generated/* lock_\\nrm -f  path.c VandP.c  autoprot.h\\nrm -rf _*_*_  results/*\\nmake[3]: Leaving directory \\'/home/vooum/Desktop/ScanCraft/ScanCraft/packages/NMSSMTools_5.5.2/sources/micromegas/NMSSM/work\\'\\nrm -f HB.* HS.* hb.* hs.*  debug_channels.txt debug_predratio.txt  Key.dat\\nrm -f Lilith_*   particles.py*\\nrm -f  smodels.* summary.*\\nrm -f  official*.pcl\\nrm -rf  __pycache__ \\nrm -f STXS*.txt  HS_correlations.txt  \\nrm -f slhaForSuperIso  \\nmake[2]: Leaving directory \\'/home/vooum/Desktop/ScanCraft/ScanCraft/packages/NMSSMTools_5.5.2/sources/micromegas/NMSSM\\'\\nclean include\\nmake[2]: Entering directory \\'/home/vooum/Desktop/ScanCraft/ScanCraft/packages/NMSSMTools_5.5.2/sources/micromegas/include\\'\\nmake[2]: Leaving directory \\'/home/vooum/Desktop/ScanCraft/ScanCraft/packages/NMSSMTools_5.5.2/sources/micromegas/include\\'\\nclean lib\\nmake[2]: Entering directory \\'/home/vooum/Desktop/ScanCraft/ScanCraft/packages/NMSSMTools_5.5.2/sources/micromegas/lib\\'\\nmake[2]: Leaving directory \\'/home/vooum/Desktop/ScanCraft/ScanCraft/packages/NMSSMTools_5.5.2/sources/micromegas/lib\\'\\nclean man\\nmake[2]: Entering directory \\'/home/vooum/Desktop/ScanCraft/ScanCraft/packages/NMSSMTools_5.5.2/sources/micromegas/man\\'\\nrm -f  *.dvi *.log *.aux *.toc *.bbl *.out *.blg\\nmake[2]: Leaving directory \\'/home/vooum/Desktop/ScanCraft/ScanCraft/packages/NMSSMTools_5.5.2/sources/micromegas/man\\'\\nclean mdlIndep\\nmake[2]: Entering directory \\'/home/vooum/Desktop/ScanCraft/ScanCraft/packages/NMSSMTools_5.5.2/sources/micromegas/mdlIndep\\'\\necho \" \"\\n \\n../sources/cleanexe\\nrm -f work/lanhep/*.mdl work/lanhep/masses.chk\\nrm -rf *.dSYM\\nmake -C lib  clean\\nmake[3]: Entering directory \\'/home/vooum/Desktop/ScanCraft/ScanCraft/packages/NMSSMTools_5.5.2/sources/micromegas/mdlIndep/lib\\'\\nrm -f *.o *.a *.so *.dll *.exe so_located\\nmake[3]: Leaving directory \\'/home/vooum/Desktop/ScanCraft/ScanCraft/packages/NMSSMTools_5.5.2/sources/micromegas/mdlIndep/lib\\'\\nmake -C work clean\\nmake[3]: Entering directory \\'/home/vooum/Desktop/ScanCraft/ScanCraft/packages/NMSSMTools_5.5.2/sources/micromegas/mdlIndep/work\\'\\nrm -f *.a *.o  lock_ LOCK  tmp/*  so_generated/* lock_\\nrm -f  path.c VandP.c autoprot.h\\nrm -rf _*_*_ results/*\\nmake[3]: Leaving directory \\'/home/vooum/Desktop/ScanCraft/ScanCraft/packages/NMSSMTools_5.5.2/sources/micromegas/mdlIndep/work\\'\\nrm -f HB.* HS.* hb.* hs.*  debug_channels.txt debug_predratio.txt  Key.dat\\nrm -f Lilith_*   particles.py*\\nrm -f  smodels.* summary.*\\nrm -f  official*.pcl\\nrm -rf  __pycache__ \\nrm -f STXS*.txt  HS_correlations.txt  \\nrm -f slhaForSuperIso  \\nmake[2]: Leaving directory \\'/home/vooum/Desktop/ScanCraft/ScanCraft/packages/NMSSMTools_5.5.2/sources/micromegas/mdlIndep\\'\\nclean sources\\nmake[2]: Entering directory \\'/home/vooum/Desktop/ScanCraft/ScanCraft/packages/NMSSMTools_5.5.2/sources/micromegas/sources\\'\\nrm -f ../lib/micromegas.a  *.o \\nmake[2]: Leaving directory \\'/home/vooum/Desktop/ScanCraft/ScanCraft/packages/NMSSMTools_5.5.2/sources/micromegas/sources\\'\\nclean Packages/LanHEP\\nmake[2]: Entering directory \\'/home/vooum/Desktop/ScanCraft/ScanCraft/packages/NMSSMTools_5.5.2/sources/micromegas/Packages/LanHEP\\'\\nrm *.o lhep SLHAplus/libSLHAplus.a\\nmake[2]: Leaving directory \\'/home/vooum/Desktop/ScanCraft/ScanCraft/packages/NMSSMTools_5.5.2/sources/micromegas/Packages/LanHEP\\'\\nclean Packages/Lilith\\nmake[2]: Entering directory \\'/home/vooum/Desktop/ScanCraft/ScanCraft/packages/NMSSMTools_5.5.2/sources/micromegas/Packages/Lilith\\'\\nmake[2]: Leaving directory \\'/home/vooum/Desktop/ScanCraft/ScanCraft/packages/NMSSMTools_5.5.2/sources/micromegas/Packages/Lilith\\'\\nclean Packages/LoopTools-2.12-v0\\nmake[2]: Entering directory \\'/home/vooum/Desktop/ScanCraft/ScanCraft/packages/NMSSMTools_5.5.2/sources/micromegas/Packages/LoopTools-2.12-v0\\'\\nrm -fr build\\nrm -f FlagsForMake\\nmake[2]: Leaving directory \\'/home/vooum/Desktop/ScanCraft/ScanCraft/packages/NMSSMTools_5.5.2/sources/micromegas/Packages/LoopTools-2.12-v0\\'\\nclean Packages/superiso_v4.0\\nmake[2]: Entering directory \\'/home/vooum/Desktop/ScanCraft/ScanCraft/packages/NMSSMTools_5.5.2/sources/micromegas/Packages/superiso_v4.0\\'\\nrm -rf tmp *.x *.bin .*.bin *.tmplha *.is? *.ss *.sptmp *.sutmp libsuperiso.a;\\nmake -C src/ clean;\\nmake[3]: Entering directory \\'/home/vooum/Desktop/ScanCraft/ScanCraft/packages/NMSSMTools_5.5.2/sources/micromegas/Packages/superiso_v4.0/src\\'\\nrm -f *.a isajet.h softsusy.h spheno.h suspect.h 2hdmc.h nmssmtools.h;\\nmake[3]: Leaving directory \\'/home/vooum/Desktop/ScanCraft/ScanCraft/packages/NMSSMTools_5.5.2/sources/micromegas/Packages/superiso_v4.0/src\\'\\nmake[2]: Leaving directory \\'/home/vooum/Desktop/ScanCraft/ScanCraft/packages/NMSSMTools_5.5.2/sources/micromegas/Packages/superiso_v4.0\\'\\nmake -C Packages/LoopTools-2.12-v0  clean\\nmake[2]: Entering directory \\'/home/vooum/Desktop/ScanCraft/ScanCraft/packages/NMSSMTools_5.5.2/sources/micromegas/Packages/LoopTools-2.12-v0\\'\\nrm -fr build\\nrm -f FlagsForMake\\nmake[2]: Leaving directory \\'/home/vooum/Desktop/ScanCraft/ScanCraft/packages/NMSSMTools_5.5.2/sources/micromegas/Packages/LoopTools-2.12-v0\\'\\nrm -rf */*.dSYM \\nmake[1]: Leaving directory \\'/home/vooum/Desktop/ScanCraft/ScanCraft/packages/NMSSMTools_5.5.2/sources/micromegas\\'\\nmake -C sources clean\\nmake[1]: Entering directory \\'/home/vooum/Desktop/ScanCraft/ScanCraft/packages/NMSSMTools_5.5.2/sources\\'\\nrm -f *.a  *.o\\nmake[1]: Leaving directory \\'/home/vooum/Desktop/ScanCraft/ScanCraft/packages/NMSSMTools_5.5.2/sources\\'\\nmake -C main clean\\nmake[1]: Entering directory \\'/home/vooum/Desktop/ScanCraft/ScanCraft/packages/NMSSMTools_5.5.2/main\\'\\nrm -f *.o nmhdecay nmspec nmgmsb nmhdecay_grid nmhdecay_rand nmhdecay_mcmc nmhdecayCPV nmhdecayCPV_grid nmhdecayCPV_rand nmhdecayCPV_mcmc nmspec_grid nmspec_rand nmspec_mcmc nmgmsb_grid nmgmsb_rand nmgmsb_mcmc\\nmake[1]: Leaving directory \\'/home/vooum/Desktop/ScanCraft/ScanCraft/packages/NMSSMTools_5.5.2/main\\'\\nmake -C microRun clean\\nmake[1]: Entering directory \\'/home/vooum/Desktop/ScanCraft/ScanCraft/packages/NMSSMTools_5.5.2/microRun\\'\\nrm -f  lanhep/*.mdl lanhep/masses.chk\\nrm -f  omega decay spectr inp nngg.out\\nrm -f  lib/nngg-nm4b/lGamma.exe\\n../sources/micromegas/sources/cleanexe\\nrm -rf *.dSYM\\nmake -C lib  clean\\nmake[2]: Entering directory \\'/home/vooum/Desktop/ScanCraft/ScanCraft/packages/NMSSMTools_5.5.2/microRun/lib\\'\\nrm -f lpath.h *.o *.a  \\nmake -C nngg-nm4b  clean \\nmake[3]: Entering directory \\'/home/vooum/Desktop/ScanCraft/ScanCraft/packages/NMSSMTools_5.5.2/microRun/lib/nngg-nm4b\\'\\nrm -f nngg.a util.a lGamma.exe *.o */*.o \\t\\nmake[3]: Leaving directory \\'/home/vooum/Desktop/ScanCraft/ScanCraft/packages/NMSSMTools_5.5.2/microRun/lib/nngg-nm4b\\'\\nmake -C ../../sources/micromegas/Packages/LoopTools-2.12-v0 clean\\nmake[3]: Entering directory \\'/home/vooum/Desktop/ScanCraft/ScanCraft/packages/NMSSMTools_5.5.2/sources/micromegas/Packages/LoopTools-2.12-v0\\'\\nrm -fr build\\nrm -f FlagsForMake\\nmake[3]: Leaving directory \\'/home/vooum/Desktop/ScanCraft/ScanCraft/packages/NMSSMTools_5.5.2/sources/micromegas/Packages/LoopTools-2.12-v0\\'\\nmake[2]: Leaving directory \\'/home/vooum/Desktop/ScanCraft/ScanCraft/packages/NMSSMTools_5.5.2/microRun/lib\\'\\nmake -C work clean\\nmake[2]: Entering directory \\'/home/vooum/Desktop/ScanCraft/ScanCraft/packages/NMSSMTools_5.5.2/microRun/work\\'\\nrm -f *.a *.o  lock_ LOCK tmp/*  so_generated/* lock_\\nrm -f  path.c VandP.c  autoprot.h\\nrm -rf _*_*_  results/*\\nmake[2]: Leaving directory \\'/home/vooum/Desktop/ScanCraft/ScanCraft/packages/NMSSMTools_5.5.2/microRun/work\\'\\nrm -rf calchep/tmp/* calchep/results/* \\nrm -f HB.* HS.* hb.* hs.*  debug_channels.txt debug_predratio.txt  Key.dat\\nrm -f Lilith_*   particles.py*\\nrm -f  smodels.* summary.*\\nmake[1]: Leaving directory \\'/home/vooum/Desktop/ScanCraft/ScanCraft/packages/NMSSMTools_5.5.2/microRun\\'\\nfind . -name \\'*.DS_Store\\' -print | xargs rm -rf\\nfind . -name \\'*.dSYM\\' -print | xargs rm -rf\\nfind . -name \\'._*\\' -print | xargs rm -rf\\n',\n",
       " b\"rm: remove regular file 'FlagsForSh'? ../include/modelMakefile:30: Main program is not specified. Use gmake main='<code of main program>'\\n../include/modelMakefile:31: Default  main=main.c\\nunlink: cannot unlink 'work/bin': No such file or directory\\nmake[2]: [../include/modelMakefile:70: clean] Error 1 (ignored)\\nmake[2]: *** No rule to make target 'clean'.  Stop.\\nmake[2]: *** No rule to make target 'clean'.  Stop.\\n../include/modelMakefile:30: Main program is not specified. Use gmake main='<code of main program>'\\n../include/modelMakefile:31: Default  main=main.c\\nunlink: cannot unlink 'work/bin': No such file or directory\\nmake[2]: [../include/modelMakefile:70: clean] Error 1 (ignored)\\nrm: cannot remove '*.o': No such file or directory\\nrm: cannot remove 'lhep': No such file or directory\\nrm: cannot remove 'SLHAplus/libSLHAplus.a': No such file or directory\\nmake[2]: *** [Makefile:41: clean] Error 1\\nmake[2]: *** No rule to make target 'clean'.  Stop.\\nMakefile:35: Main program is not specified. Use gmake main='<code of main program>'\\nMakefile:36: Default  main=main.c\\nunlink: cannot unlink 'calchep/bin': Is a directory\\nmake[1]: [Makefile:74: clean] Error 1 (ignored)\\n\")"
      ]
     },
     "execution_count": 30,
     "metadata": {},
     "output_type": "execute_result"
    }
   ],
   "source": [
    "run.communicate(b'y\\ny')"
   ]
  },
  {
   "cell_type": "code",
   "execution_count": 37,
   "metadata": {
    "collapsed": true
   },
   "outputs": [
    {
     "name": "stdout",
     "output_type": "stream",
     "text": [
      "rm: remove regular file 'FlagsForSh'? ../include/modelMakefile:30: Main program is not specified. Use gmake main='<code of main program>'\n",
      "../include/modelMakefile:31: Default  main=main.c\n",
      "unlink: cannot unlink 'work/bin': No such file or directory\n",
      "make[2]: [../include/modelMakefile:70: clean] Error 1 (ignored)\n",
      "make[2]: *** No rule to make target 'clean'.  Stop.\n",
      "make[2]: *** No rule to make target 'clean'.  Stop.\n",
      "../include/modelMakefile:30: Main program is not specified. Use gmake main='<code of main program>'\n",
      "../include/modelMakefile:31: Default  main=main.c\n",
      "unlink: cannot unlink 'work/bin': No such file or directory\n",
      "make[2]: [../include/modelMakefile:70: clean] Error 1 (ignored)\n",
      "rm: cannot remove '*.o': No such file or directory\n",
      "rm: cannot remove 'lhep': No such file or directory\n",
      "rm: cannot remove 'SLHAplus/libSLHAplus.a': No such file or directory\n",
      "make[2]: *** [Makefile:41: clean] Error 1\n",
      "make[2]: *** No rule to make target 'clean'.  Stop.\n",
      "Makefile:35: Main program is not specified. Use gmake main='<code of main program>'\n",
      "Makefile:36: Default  main=main.c\n",
      "unlink: cannot unlink 'calchep/bin': Is a directory\n",
      "make[1]: [Makefile:74: clean] Error 1 (ignored)\n",
      "\n"
     ]
    }
   ],
   "source": [
    "print(str(_30[1],encoding = \"utf8\"))"
   ]
  },
  {
   "cell_type": "code",
   "execution_count": 33,
   "metadata": {},
   "outputs": [
    {
     "data": {
      "text/plain": [
       "2"
      ]
     },
     "execution_count": 33,
     "metadata": {},
     "output_type": "execute_result"
    }
   ],
   "source": [
    "len(_30)"
   ]
  },
  {
   "cell_type": "code",
   "execution_count": null,
   "metadata": {},
   "outputs": [],
   "source": []
  },
  {
   "cell_type": "code",
   "execution_count": null,
   "metadata": {},
   "outputs": [],
   "source": []
  },
  {
   "cell_type": "markdown",
   "metadata": {},
   "source": [
    "## NMSSMTools"
   ]
  },
  {
   "cell_type": "code",
   "execution_count": 7,
   "metadata": {},
   "outputs": [],
   "source": [
    "from command.nexus.NMSSMTools import NMSSMTools"
   ]
  },
  {
   "cell_type": "code",
   "execution_count": 8,
   "metadata": {},
   "outputs": [
    {
     "name": "stdout",
     "output_type": "stream",
     "text": [
      "NMSSMTools_5.5.2 file:\n",
      "->/home/vooum/Desktop/ScanCraft/ScanCraft/packages/NMSSMTools_5.5.2\n"
     ]
    }
   ],
   "source": [
    "N=NMSSMTools(input_mold='./inp.dat')\n",
    "# N.Make()"
   ]
  },
  {
   "cell_type": "code",
   "execution_count": 4,
   "metadata": {},
   "outputs": [],
   "source": [
    "from command.scan.scan import scan\n",
    "mold=scan()\n",
    "mold.AddScalar('tanB','MINPAR',3,1.,60.) \n",
    "mold.AddScalar('M1','EXTPAR',1  ,20.    ,2000.) \n",
    "mold.AddScalar('M2','EXTPAR',2  ,100.    ,2000.)\n",
    "mold.AddScalar('Atop','EXTPAR',11  ,  -5e3    ,5e3)\n",
    "mold.AddFollower('Abottom','EXTPAR'   ,12,'Atop')\n",
    "mold.AddScalar('Atau','EXTPAR'   ,13  ,  100.      ,2000.)\n",
    "mold.AddScalar('Amuon','EXTPAR'   ,16  ,  100.      ,2000.)\n",
    "mold.AddScalar('MtauL','EXTPAR'   ,33,100.,2000.)\n",
    "mold.AddScalar('MmuonL','EXTPAR'   ,32,100.,2000.)\n",
    "mold.AddScalar('MtauR','EXTPAR'   ,36,100.,2000.)\n",
    "mold.AddScalar('MmuonR','EXTPAR'   ,35,100.,2000.)\n",
    "# mold.AddScalar('MQ3L','EXTPAR'   ,43,\t100.,\t2.e3)#\n",
    "# mold.AddScalar('MtopR'\t,'EXTPAR'   ,46,\t100.,\t2.e3)#\n",
    "# mold.AddFollower('MbottomR','EXTPAR'  ,49,'MtopR')#\n",
    "mold.AddScalar('Lambda','EXTPAR'  ,61  ,1e-3    ,.75 ,prior_distribution='exponential')\n",
    "mold.AddScalar('Kappa','EXTPAR'   ,62 ,-0.75    ,.75 ,prior_distribution='exponential')\n",
    "# mold.AddScalar('A_Lambda','EXTPAR' ,63,-3.e3,3.e3)\n",
    "mold.AddScalar('A_kappa','EXTPAR' ,64,-2.e3,2.e3)\n",
    "mold.AddScalar('mu_eff','EXTPAR'  ,65,100.,2000.)"
   ]
  },
  {
   "cell_type": "code",
   "execution_count": 5,
   "metadata": {},
   "outputs": [],
   "source": [
    "mold.GetValue('./inp.dat')"
   ]
  },
  {
   "cell_type": "code",
   "execution_count": 9,
   "metadata": {},
   "outputs": [
    {
     "data": {
      "text/plain": [
       "<command.nexus.NMSSMTools.NToolsOutput at 0x7f8d8813f590>"
      ]
     },
     "execution_count": 9,
     "metadata": {},
     "output_type": "execute_result"
    }
   ],
   "source": [
    "N.Run(mold)"
   ]
  },
  {
   "cell_type": "code",
   "execution_count": 17,
   "metadata": {},
   "outputs": [],
   "source": [
    "N.SetInput(mold)"
   ]
  },
  {
   "cell_type": "code",
   "execution_count": null,
   "metadata": {},
   "outputs": [],
   "source": []
  }
 ],
 "metadata": {
  "kernelspec": {
   "display_name": "Python 3 (ipykernel)",
   "language": "python",
   "name": "python3"
  },
  "language_info": {
   "codemirror_mode": {
    "name": "ipython",
    "version": 3
   },
   "file_extension": ".py",
   "mimetype": "text/x-python",
   "name": "python",
   "nbconvert_exporter": "python",
   "pygments_lexer": "ipython3",
   "version": "3.8.10"
  }
 },
 "nbformat": 4,
 "nbformat_minor": 2
}
