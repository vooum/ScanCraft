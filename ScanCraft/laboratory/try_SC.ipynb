{
 "cells": [
  {
   "cell_type": "code",
   "execution_count": 1,
   "metadata": {},
   "outputs": [],
   "source": [
    "%matplotlib inline\n",
    "%load_ext autoreload\n",
    "%autoreload 2\n",
    "\n",
    "import sys,pandas,os\n",
    "sys.path.append('/home/heyangle/Desktop/ScanCraft/ScanCraft')\n",
    "sys.path.append('/home/vooum/Desktop/ScanCraft/ScanCraft')\n",
    "sys.path.append('C://Users//vooum//Desktop//ScanCraft//ScanCraft')"
   ]
  },
  {
   "cell_type": "markdown",
   "metadata": {},
   "source": [
    "# build scan object"
   ]
  },
  {
   "cell_type": "code",
   "execution_count": 2,
   "metadata": {},
   "outputs": [],
   "source": [
    "from command.nexus.SPheno import SPheno,block_mapping\n",
    "from command.scan.scan import scan\n",
    "\n",
    "free=scan()\n",
    "free.AddScalar('tanB','MINPAR',3,1.,60.,value=12)\n",
    "free.AddFollower('tb','MINPAR',3,free.variable_dict['tanB'])\n",
    "free.AddDependent('dtb','MINPAR',3,func=lambda x,y:2*x+y,variables=['tb','tanB'])\n",
    "# free.free_parameter_list['tanB'].value=10"
   ]
  },
  {
   "cell_type": "code",
   "execution_count": 14,
   "metadata": {},
   "outputs": [
    {
     "data": {
      "text/plain": [
       "ChainMap({'tanB': <command.scan.free_parameter.independent_scalar object at 0x7fd992da6f98>}, {}, {'tb': <command.scan.free_parameter.follower object at 0x7fd992d73dd8>}, {'dtb': <command.scan.free_parameter.dependent_scalar object at 0x7fd993c59d30>})"
      ]
     },
     "execution_count": 14,
     "metadata": {},
     "output_type": "execute_result"
    }
   ],
   "source": [
    "free.variable_list"
   ]
  },
  {
   "cell_type": "code",
   "execution_count": 15,
   "metadata": {},
   "outputs": [
    {
     "data": {
      "text/plain": [
       "12"
      ]
     },
     "execution_count": 15,
     "metadata": {},
     "output_type": "execute_result"
    }
   ],
   "source": [
    "free.variable_list['tb'].value"
   ]
  },
  {
   "cell_type": "code",
   "execution_count": 18,
   "metadata": {},
   "outputs": [
    {
     "data": {
      "text/plain": [
       "5"
      ]
     },
     "execution_count": 18,
     "metadata": {},
     "output_type": "execute_result"
    }
   ],
   "source": [
    "free.dependent_list['dtb'].value"
   ]
  },
  {
   "cell_type": "code",
   "execution_count": 17,
   "metadata": {},
   "outputs": [],
   "source": [
    "free.dependent_list['dtb'].value=5"
   ]
  },
  {
   "cell_type": "code",
   "execution_count": 11,
   "metadata": {},
   "outputs": [],
   "source": [
    "del free.dependent_list['dtb'].value"
   ]
  },
  {
   "cell_type": "markdown",
   "metadata": {},
   "source": [
    "# read a point"
   ]
  },
  {
   "cell_type": "code",
   "execution_count": 5,
   "metadata": {},
   "outputs": [
    {
     "name": "stdout",
     "output_type": "stream",
     "text": [
      "       dtb: 333.0\n",
      "      tanB: 111.0\n",
      "        tb: 111.0\n"
     ]
    }
   ],
   "source": [
    "free.GetValue('inp.dat')\n",
    "free.Print()"
   ]
  },
  {
   "cell_type": "code",
   "execution_count": 6,
   "metadata": {},
   "outputs": [],
   "source": [
    "free.GetValue('SPheno.in.0',mapping=block_mapping)"
   ]
  },
  {
   "cell_type": "code",
   "execution_count": 21,
   "metadata": {},
   "outputs": [
    {
     "name": "stdout",
     "output_type": "stream",
     "text": [
      "tanB MINPAR 3\n",
      "tb MINPAR 3\n",
      "dtb MINPAR 3\n"
     ]
    }
   ],
   "source": [
    "for k,v in free.variable_list.items():\n",
    "    print(k,v.block,v.code)"
   ]
  },
  {
   "cell_type": "code",
   "execution_count": 7,
   "metadata": {},
   "outputs": [
    {
     "name": "stdout",
     "output_type": "stream",
     "text": [
      "       dtb: 83.01737374646727\n",
      "      tanB: 27.67245791548909\n",
      "        tb: 27.67245791548909\n"
     ]
    }
   ],
   "source": [
    "free.Print()"
   ]
  },
  {
   "cell_type": "markdown",
   "metadata": {},
   "source": [
    "# SPheno object"
   ]
  },
  {
   "cell_type": "code",
   "execution_count": 7,
   "metadata": {},
   "outputs": [
    {
     "name": "stdout",
     "output_type": "stream",
     "text": [
      "SPheno file:\n",
      "->/home/heyangle/Desktop/ScanCraft/ScanCraft/packages/SPheno-4.0.3\n",
      "delete folder record? (y/n) \n",
      "\n"
     ]
    }
   ],
   "source": [
    "SP=SPheno()"
   ]
  },
  {
   "cell_type": "code",
   "execution_count": 8,
   "metadata": {},
   "outputs": [],
   "source": [
    "sample=SP.Run(free)"
   ]
  },
  {
   "cell_type": "markdown",
   "metadata": {},
   "source": [
    "## no output file or empty output file:"
   ]
  },
  {
   "cell_type": "code",
   "execution_count": 9,
   "metadata": {},
   "outputs": [
    {
     "data": {
      "text/plain": [
       "{'error': True}"
      ]
     },
     "execution_count": 9,
     "metadata": {},
     "output_type": "execute_result"
    }
   ],
   "source": [
    "sample.__dict__"
   ]
  },
  {
   "cell_type": "code",
   "execution_count": 7,
   "metadata": {},
   "outputs": [
    {
     "data": {
      "text/plain": [
       "{'input': '/home/heyangle/Desktop/ScanCraft/ScanCraft/packages/SPheno-4.0.3/bin/./record/SPheno.in.00001256',\n",
       " 'output': '/home/heyangle/Desktop/ScanCraft/ScanCraft/packages/SPheno-4.0.3/bin/./record/SPheno.out.00001256'}"
      ]
     },
     "execution_count": 7,
     "metadata": {},
     "output_type": "execute_result"
    }
   ],
   "source": [
    "SP.Record(1256)"
   ]
  },
  {
   "cell_type": "code",
   "execution_count": null,
   "metadata": {},
   "outputs": [],
   "source": [
    "sample.MASS[25]"
   ]
  },
  {
   "cell_type": "code",
   "execution_count": 8,
   "metadata": {},
   "outputs": [
    {
     "data": {
      "text/plain": [
       "<command.scan.scan.scan at 0x7f30c1c44710>"
      ]
     },
     "execution_count": 8,
     "metadata": {},
     "output_type": "execute_result"
    }
   ],
   "source": [
    "free.Sample()"
   ]
  },
  {
   "cell_type": "code",
   "execution_count": 9,
   "metadata": {},
   "outputs": [
    {
     "data": {
      "text/plain": [
       "<command.format.data_container.capsule at 0x7f30c1c6d940>"
      ]
     },
     "execution_count": 9,
     "metadata": {},
     "output_type": "execute_result"
    }
   ],
   "source": [
    "SP.Run(free)"
   ]
  },
  {
   "cell_type": "code",
   "execution_count": 10,
   "metadata": {},
   "outputs": [
    {
     "data": {
      "text/plain": [
       "{'input': '/home/heyangle/Desktop/ScanCraft/ScanCraft/packages/SPheno-4.0.3/bin/./record/SPheno.in.00001266',\n",
       " 'output': '/home/heyangle/Desktop/ScanCraft/ScanCraft/packages/SPheno-4.0.3/bin/./record/SPheno.out.00001266'}"
      ]
     },
     "execution_count": 10,
     "metadata": {},
     "output_type": "execute_result"
    }
   ],
   "source": [
    "SP.Record(1266)"
   ]
  },
  {
   "cell_type": "code",
   "execution_count": 9,
   "metadata": {},
   "outputs": [
    {
     "name": "stdout",
     "output_type": "stream",
     "text": [
      "clean\n"
     ]
    },
    {
     "ename": "AttributeError",
     "evalue": "'int' object has no attribute 'readlines'",
     "output_type": "error",
     "traceback": [
      "\u001b[0;31m---------------------------------------------------------------------------\u001b[0m",
      "\u001b[0;31mAttributeError\u001b[0m                            Traceback (most recent call last)",
      "\u001b[0;32m<ipython-input-9-7c8c6a066644>\u001b[0m in \u001b[0;36m<module>\u001b[0;34m()\u001b[0m\n\u001b[0;32m----> 1\u001b[0;31m \u001b[0mSP\u001b[0m\u001b[0;34m.\u001b[0m\u001b[0mReMake\u001b[0m\u001b[0;34m(\u001b[0m\u001b[0;34m)\u001b[0m\u001b[0;34m\u001b[0m\u001b[0m\n\u001b[0m",
      "\u001b[0;32m~/Desktop/ScanCraft/ScanCraft/command/nexus/SPheno.py\u001b[0m in \u001b[0;36mReMake\u001b[0;34m(self)\u001b[0m\n\u001b[1;32m    119\u001b[0m                 \u001b[0;34m,\u001b[0m\u001b[0mcheck\u001b[0m\u001b[0;34m=\u001b[0m\u001b[0;32mTrue\u001b[0m\u001b[0;34m,\u001b[0m\u001b[0mstdout\u001b[0m\u001b[0;34m=\u001b[0m\u001b[0msubprocess\u001b[0m\u001b[0;34m.\u001b[0m\u001b[0mPIPE\u001b[0m\u001b[0;34m\u001b[0m\u001b[0m\n\u001b[1;32m    120\u001b[0m                 )\n\u001b[0;32m--> 121\u001b[0;31m             \u001b[0mprint\u001b[0m\u001b[0;34m(\u001b[0m\u001b[0msubprocess\u001b[0m\u001b[0;34m.\u001b[0m\u001b[0mPIPE\u001b[0m\u001b[0;34m.\u001b[0m\u001b[0mreadlines\u001b[0m\u001b[0;34m(\u001b[0m\u001b[0;34m)\u001b[0m\u001b[0;34m)\u001b[0m\u001b[0;34m\u001b[0m\u001b[0m\n\u001b[0m\u001b[1;32m    122\u001b[0m             \u001b[0mprint\u001b[0m\u001b[0;34m(\u001b[0m\u001b[0;34m'done'\u001b[0m\u001b[0;34m)\u001b[0m\u001b[0;34m\u001b[0m\u001b[0m\n",
      "\u001b[0;31mAttributeError\u001b[0m: 'int' object has no attribute 'readlines'"
     ]
    }
   ],
   "source": [
    "SP.ReMake()"
   ]
  },
  {
   "cell_type": "code",
   "execution_count": 11,
   "metadata": {},
   "outputs": [
    {
     "data": {
      "text/plain": [
       "' 1 0               #  1/0: High/low scale input \\n'"
      ]
     },
     "execution_count": 11,
     "metadata": {},
     "output_type": "execute_result"
    }
   ],
   "source": [
    "str(SP.input_mold_lines[1])"
   ]
  },
  {
   "cell_type": "code",
   "execution_count": 12,
   "metadata": {},
   "outputs": [
    {
     "data": {
      "text/plain": [
       "'a0000141113'"
      ]
     },
     "execution_count": 12,
     "metadata": {},
     "output_type": "execute_result"
    }
   ],
   "source": [
    "'a{0:0>{1}}'.format('141113',10)"
   ]
  },
  {
   "cell_type": "code",
   "execution_count": 13,
   "metadata": {},
   "outputs": [],
   "source": [
    "from queue import Queue\n",
    "from command.multi_thread.MT_SPheno import MT_SPheno"
   ]
  },
  {
   "cell_type": "code",
   "execution_count": 14,
   "metadata": {},
   "outputs": [
    {
     "name": "stdout",
     "output_type": "stream",
     "text": [
      "SPheno file:\n",
      "->/home/heyangle/Desktop/ScanCraft/ScanCraft/packages/SPheno-4.0.3\n",
      "delete folder ./output? (y/n) \n",
      "\n"
     ]
    }
   ],
   "source": [
    "MS=MT_SPheno()"
   ]
  },
  {
   "cell_type": "code",
   "execution_count": 103,
   "metadata": {},
   "outputs": [
    {
     "name": "stdout",
     "output_type": "stream",
     "text": [
      "True\n",
      "ReMake probe 0...\n",
      "True\n",
      "ReMake probe 1...\n",
      "probe 1 has been ReMaked\n",
      "probe 0 has been ReMaked\n",
      "done\n"
     ]
    }
   ],
   "source": [
    "MS.Run(Queue(10),ReMake=True)"
   ]
  },
  {
   "cell_type": "markdown",
   "metadata": {},
   "source": [
    "# -----------------\n",
    "## independent element"
   ]
  },
  {
   "cell_type": "code",
   "execution_count": 15,
   "metadata": {},
   "outputs": [],
   "source": [
    "from command.scan.free_parameter import independent_element as ie\n",
    "from command.scan.free_parameter import independent_scalar"
   ]
  },
  {
   "cell_type": "code",
   "execution_count": 16,
   "metadata": {},
   "outputs": [],
   "source": [
    "e1=ie('h','hmix',(1,1),1,10)"
   ]
  },
  {
   "cell_type": "code",
   "execution_count": 17,
   "metadata": {},
   "outputs": [
    {
     "data": {
      "text/plain": [
       "(1, 1)"
      ]
     },
     "execution_count": 17,
     "metadata": {},
     "output_type": "execute_result"
    }
   ],
   "source": [
    "e1.code"
   ]
  },
  {
   "cell_type": "code",
   "execution_count": 18,
   "metadata": {},
   "outputs": [
    {
     "data": {
      "text/plain": [
       "True"
      ]
     },
     "execution_count": 18,
     "metadata": {},
     "output_type": "execute_result"
    }
   ],
   "source": [
    "isinstance(e1,(independent_scalar))"
   ]
  },
  {
   "cell_type": "code",
   "execution_count": 19,
   "metadata": {},
   "outputs": [
    {
     "data": {
      "text/plain": [
       "False"
      ]
     },
     "execution_count": 19,
     "metadata": {},
     "output_type": "execute_result"
    }
   ],
   "source": [
    "type(e1) is independent_scalar"
   ]
  },
  {
   "cell_type": "code",
   "execution_count": 20,
   "metadata": {},
   "outputs": [
    {
     "data": {
      "text/plain": [
       "command.scan.free_parameter.independent_element"
      ]
     },
     "execution_count": 20,
     "metadata": {},
     "output_type": "execute_result"
    }
   ],
   "source": [
    "e1.__class__"
   ]
  },
  {
   "cell_type": "code",
   "execution_count": 14,
   "metadata": {},
   "outputs": [
    {
     "ename": "AttributeError",
     "evalue": "'independent_element' object has no attribute 'aaa'",
     "output_type": "error",
     "traceback": [
      "\u001b[0;31m---------------------------------------------------------------------------\u001b[0m",
      "\u001b[0;31mAttributeError\u001b[0m                            Traceback (most recent call last)",
      "\u001b[0;32m<ipython-input-14-bef257cfa0c9>\u001b[0m in \u001b[0;36m<module>\u001b[0;34m()\u001b[0m\n\u001b[0;32m----> 1\u001b[0;31m \u001b[0mgetattr\u001b[0m\u001b[0;34m(\u001b[0m\u001b[0me1\u001b[0m\u001b[0;34m,\u001b[0m\u001b[0;34m'aaa'\u001b[0m\u001b[0;34m)\u001b[0m\u001b[0;34m\u001b[0m\u001b[0m\n\u001b[0m",
      "\u001b[0;31mAttributeError\u001b[0m: 'independent_element' object has no attribute 'aaa'"
     ]
    }
   ],
   "source": [
    "getattr(e1,'aaa')"
   ]
  },
  {
   "cell_type": "markdown",
   "metadata": {},
   "source": [
    "# try $\\mu_X$"
   ]
  },
  {
   "cell_type": "code",
   "execution_count": 5,
   "metadata": {},
   "outputs": [],
   "source": [
    "from command.ISS_mu_x import GetMuX"
   ]
  },
  {
   "cell_type": "code",
   "execution_count": 6,
   "metadata": {},
   "outputs": [
    {
     "data": {
      "text/plain": [
       "matrix([[ 6.40627005e-06, -7.54443992e-08, -2.66754208e-09],\n",
       "        [-7.54443992e-08,  6.75720741e-06,  1.38231916e-08],\n",
       "        [-2.66754208e-09,  1.38231916e-08,  7.62686899e-09]])"
      ]
     },
     "execution_count": 6,
     "metadata": {},
     "output_type": "execute_result"
    }
   ],
   "source": [
    "GetMuX(0.01, 0.01, 0.123456,\n",
    "       0.3, 0.3, 0.123456,\n",
    "       26.704176, 2084.17)"
   ]
  },
  {
   "cell_type": "code",
   "execution_count": 30,
   "metadata": {},
   "outputs": [
    {
     "data": {
      "text/plain": [
       "False"
      ]
     },
     "execution_count": 30,
     "metadata": {},
     "output_type": "execute_result"
    }
   ],
   "source": [
    "bool(None)"
   ]
  },
  {
   "cell_type": "code",
   "execution_count": 40,
   "metadata": {},
   "outputs": [
    {
     "data": {
      "text/plain": [
       "True"
      ]
     },
     "execution_count": 40,
     "metadata": {},
     "output_type": "execute_result"
    }
   ],
   "source": [
    "any([None,1])"
   ]
  },
  {
   "cell_type": "markdown",
   "metadata": {},
   "source": [
    "# class package"
   ]
  },
  {
   "cell_type": "code",
   "execution_count": 7,
   "metadata": {},
   "outputs": [],
   "source": [
    "from command.nexus.package import package"
   ]
  },
  {
   "cell_type": "code",
   "execution_count": 11,
   "metadata": {},
   "outputs": [
    {
     "name": "stdout",
     "output_type": "stream",
     "text": [
      "NMSSMTools_5.4 file:\n",
      "->/home/heyangle/Desktop/ScanCraft/ScanCraft/packages/NMSSMTools_5.4.1\n"
     ]
    }
   ],
   "source": [
    "N=package(package_name='NMSSMTools_5.4',output_file={'spectr':'spec.dat','omg':'omg.txt'})"
   ]
  },
  {
   "cell_type": "code",
   "execution_count": 12,
   "metadata": {},
   "outputs": [
    {
     "data": {
      "text/plain": [
       "'/home/heyangle/Desktop/ScanCraft/ScanCraft/packages/NMSSMTools_5.4.1/'"
      ]
     },
     "execution_count": 12,
     "metadata": {},
     "output_type": "execute_result"
    }
   ],
   "source": [
    "N.run_dir"
   ]
  },
  {
   "cell_type": "code",
   "execution_count": 13,
   "metadata": {},
   "outputs": [
    {
     "data": {
      "text/plain": [
       "{'spectr': '/home/heyangle/Desktop/ScanCraft/ScanCraft/packages/NMSSMTools_5.4.1/spec.dat',\n",
       " 'omg': '/home/heyangle/Desktop/ScanCraft/ScanCraft/packages/NMSSMTools_5.4.1/omg.txt'}"
      ]
     },
     "execution_count": 13,
     "metadata": {},
     "output_type": "execute_result"
    }
   ],
   "source": [
    "N.output_dir"
   ]
  },
  {
   "cell_type": "markdown",
   "metadata": {},
   "source": [
    "## NMSSMTools"
   ]
  },
  {
   "cell_type": "code",
   "execution_count": 2,
   "metadata": {},
   "outputs": [],
   "source": [
    "from command.nexus.NMSSMTools import NMSSMTools"
   ]
  },
  {
   "cell_type": "code",
   "execution_count": 3,
   "metadata": {},
   "outputs": [
    {
     "name": "stdout",
     "output_type": "stream",
     "text": [
      "NMSSMTools_5.5.2 file:\n",
      "->/home/vooum/Desktop/ScanCraft/ScanCraft/packages/NMSSMTools_5.5.2\n"
     ]
    }
   ],
   "source": [
    "N=NMSSMTools(input_mold='./inp.dat')"
   ]
  },
  {
   "cell_type": "code",
   "execution_count": 29,
   "metadata": {},
   "outputs": [],
   "source": [
    "free.variable_dict['tanB'].value=55"
   ]
  },
  {
   "cell_type": "code",
   "execution_count": 44,
   "metadata": {},
   "outputs": [],
   "source": [
    "spec=N.Run(free)"
   ]
  },
  {
   "cell_type": "code",
   "execution_count": 58,
   "metadata": {},
   "outputs": [
    {
     "data": {
      "text/plain": [
       "odict_keys(['head', 'SPINFO', 'MODSEL', 'SMINPUTS', 'MINPAR', 'EXTPAR', 'MASS', 'TRILEP', 'LOWEN', 'HMIX', 'NMHMIX', 'NMAMIX', 'STOPMIX', 'SBOTMIX', 'STAUMIX', 'NMNMIX', 'UMIX', 'VMIX', 'REDCOUP', 'HIGGSCOUPLINGSBOSONS', 'HIGGSCOUPLINGSFERMIONS', 'GAUGE', 'YU', 'YD', 'YE', 'AU', 'TU', 'AD', 'TD', 'AE', 'TE', 'MSOFT', 'NMSSMRUN', 'MSQ2', 'MSU2', 'MSD2', 'MSL2', 'MSE2', 'USQMIX', 'DSQMIX', 'SELMIX', 'GUTGAUGE', 'GUTYU', 'GUTYD', 'GUTYE', 'GUTAU', 'GUTAD', 'GUTAE', 'GUTMSOFT', 'GUTNMSSMRUN', 'FINETUNING', 'LHCCROSSSECTIONS', 'LHCFIT', 'EFFECTIVE_COUPLINGS', 'DCINFO', 'RDINFO', 'ABUNDANCE', 'LSP'])"
      ]
     },
     "execution_count": 58,
     "metadata": {},
     "output_type": "execute_result"
    }
   ],
   "source": [
    "spec.BLOCK.text_dict.keys()"
   ]
  },
  {
   "cell_type": "code",
   "execution_count": 57,
   "metadata": {},
   "outputs": [
    {
     "data": {
      "text/plain": [
       "0.0046450052"
      ]
     },
     "execution_count": 57,
     "metadata": {},
     "output_type": "execute_result"
    }
   ],
   "source": [
    "spec('WIDTH',25)"
   ]
  },
  {
   "cell_type": "code",
   "execution_count": 60,
   "metadata": {},
   "outputs": [
    {
     "name": "stdout",
     "output_type": "stream",
     "text": [
      "Load method for MODSEL not found in block_format\n",
      "BLOCK MODSEL\n",
      "   3  1   # NMSSM particle content\n",
      "   1  0   # IMOD\n",
      "  10  0   # ISCAN\n",
      "   9  1   # Call micrOmegas\n",
      "   8  1   # Precision for Higgs masses\n",
      "  13  1   # Sparticle decays via NMSDECAY\n",
      "  14  1   # H-> VV,VV*,(V*V*)\n",
      "  15  0   # Precision for micromegas\n",
      "  16  0   # Extra BLOCK's yes/no\n",
      "\n"
     ]
    },
    {
     "ename": "AttributeError",
     "evalue": "type object 'ReadNToolsSpectr' has no attribute 'MODSEL'",
     "output_type": "error",
     "traceback": [
      "\u001b[0;31m---------------------------------------------------------------------------\u001b[0m",
      "\u001b[0;31mAttributeError\u001b[0m                            Traceback (most recent call last)",
      "\u001b[0;32m<ipython-input-60-7494feca5ffd>\u001b[0m in \u001b[0;36m<module>\u001b[0;34m()\u001b[0m\n\u001b[0;32m----> 1\u001b[0;31m \u001b[0mspec\u001b[0m\u001b[0;34m.\u001b[0m\u001b[0mBLOCK\u001b[0m\u001b[0;34m.\u001b[0m\u001b[0mMODSEL\u001b[0m\u001b[0;34m\u001b[0m\u001b[0;34m\u001b[0m\u001b[0m\n\u001b[0m",
      "\u001b[0;32m~/Desktop/ScanCraft/ScanCraft/command/DataProcessing/SLHA/SLHA_block.py\u001b[0m in \u001b[0;36m__getattr__\u001b[0;34m(self, block_name)\u001b[0m\n\u001b[1;32m     58\u001b[0m             \u001b[0mprint\u001b[0m\u001b[0;34m(\u001b[0m\u001b[0;34mf'{block_name} not found in text'\u001b[0m\u001b[0;34m)\u001b[0m\u001b[0;34m\u001b[0m\u001b[0;34m\u001b[0m\u001b[0m\n\u001b[1;32m     59\u001b[0m             \u001b[0;32mraise\u001b[0m\u001b[0;34m\u001b[0m\u001b[0;34m\u001b[0m\u001b[0m\n\u001b[0;32m---> 60\u001b[0;31m         \u001b[0;32mtry\u001b[0m\u001b[0;34m:\u001b[0m \u001b[0mdata\u001b[0m\u001b[0;34m=\u001b[0m\u001b[0mgetattr\u001b[0m\u001b[0;34m(\u001b[0m\u001b[0mself\u001b[0m\u001b[0;34m.\u001b[0m\u001b[0mblock_format\u001b[0m\u001b[0;34m,\u001b[0m\u001b[0mblock_name\u001b[0m\u001b[0;34m)\u001b[0m\u001b[0;34m(\u001b[0m\u001b[0mtext\u001b[0m\u001b[0;34m)\u001b[0m\u001b[0;34m\u001b[0m\u001b[0;34m\u001b[0m\u001b[0m\n\u001b[0m\u001b[1;32m     61\u001b[0m         \u001b[0;32mexcept\u001b[0m \u001b[0mAttributeError\u001b[0m\u001b[0;34m:\u001b[0m\u001b[0;34m\u001b[0m\u001b[0;34m\u001b[0m\u001b[0m\n\u001b[1;32m     62\u001b[0m             \u001b[0mprint\u001b[0m\u001b[0;34m(\u001b[0m\u001b[0;34mf'Load method for {block_name} not found in block_format'\u001b[0m\u001b[0;34m)\u001b[0m\u001b[0;34m\u001b[0m\u001b[0;34m\u001b[0m\u001b[0m\n",
      "\u001b[0;31mAttributeError\u001b[0m: type object 'ReadNToolsSpectr' has no attribute 'MODSEL'"
     ]
    }
   ],
   "source": [
    "spec.BLOCK.MODSEL"
   ]
  },
  {
   "cell_type": "code",
   "execution_count": 41,
   "metadata": {},
   "outputs": [
    {
     "name": "stdout",
     "output_type": "stream",
     "text": [
      "odict_keys(['head', 'SPINFO', 'MODSEL', 'SMINPUTS', 'MINPAR', 'EXTPAR', 'MASS', 'TRILEP', 'LOWEN', 'HMIX', 'NMHMIX', 'NMAMIX', 'STOPMIX', 'SBOTMIX', 'STAUMIX', 'NMNMIX', 'UMIX', 'VMIX', 'REDCOUP', 'HIGGSCOUPLINGSBOSONS', 'HIGGSCOUPLINGSFERMIONS', 'GAUGE', 'YU', 'YD', 'YE', 'AU', 'TU', 'AD', 'TD', 'AE', 'TE', 'MSOFT', 'NMSSMRUN', 'MSQ2', 'MSU2', 'MSD2', 'MSL2', 'MSE2', 'USQMIX', 'DSQMIX', 'SELMIX', 'GUTGAUGE', 'GUTYU', 'GUTYD', 'GUTYE', 'GUTAU', 'GUTAD', 'GUTAE', 'GUTMSOFT', 'GUTNMSSMRUN', 'FINETUNING', 'LHCCROSSSECTIONS', 'LHCFIT', 'EFFECTIVE_COUPLINGS', 'DCINFO', 'RDINFO', 'ABUNDANCE', 'LSP'])\n"
     ]
    },
    {
     "data": {
      "text/plain": [
       "True"
      ]
     },
     "execution_count": 41,
     "metadata": {},
     "output_type": "execute_result"
    }
   ],
   "source": [
    "print(spec.block_text.keys())\n",
    "spec.BLOCK.text_dict is spec.block_text"
   ]
  },
  {
   "cell_type": "code",
   "execution_count": 42,
   "metadata": {},
   "outputs": [
    {
     "name": "stdout",
     "output_type": "stream",
     "text": [
      "Load method for SMINPUTS not found in block_format\n",
      "BLOCK SMINPUTS\n",
      "      1     1.27920000E+02   # ALPHA_EM^-1(MZ)\n",
      "      2     1.16639000E-05   # GF\n",
      "      3     1.17200000E-01   # ALPHA_S(MZ)\n",
      "      4     9.11870000E+01   # MZ\n",
      "      5     4.21400000E+00   # MB(MB)\n",
      "      6     1.73100000E+02   # MTOP (POLE MASS)\n",
      "      7     1.77700000E+00   # MTAU\n",
      " # SMINPUTS Beyond SLHA:\n",
      " # MW:     0.80420000E+02\n",
      " # MS:     0.19000000E+00\n",
      " # MC:     0.14000000E+01\n",
      " # VUS:     0.22000000E+00\n",
      " # VCB:     0.40000000E-01\n",
      " # VUB:     0.40000000E-02\n",
      "\n"
     ]
    },
    {
     "ename": "AttributeError",
     "evalue": "type object 'ReadNToolsSpectr' has no attribute 'SMINPUTS'",
     "output_type": "error",
     "traceback": [
      "\u001b[0;31m---------------------------------------------------------------------------\u001b[0m",
      "\u001b[0;31mAttributeError\u001b[0m                            Traceback (most recent call last)",
      "\u001b[0;32m<ipython-input-42-38bdf6f1fa39>\u001b[0m in \u001b[0;36m<module>\u001b[0;34m()\u001b[0m\n\u001b[0;32m----> 1\u001b[0;31m \u001b[0mspec\u001b[0m\u001b[0;34m.\u001b[0m\u001b[0mBLOCK\u001b[0m\u001b[0;34m.\u001b[0m\u001b[0mSMINPUTS\u001b[0m\u001b[0;34m\u001b[0m\u001b[0;34m\u001b[0m\u001b[0m\n\u001b[0m",
      "\u001b[0;32m~/Desktop/ScanCraft/ScanCraft/command/DataProcessing/SLHA/SLHA_block.py\u001b[0m in \u001b[0;36m__getattr__\u001b[0;34m(self, block_name)\u001b[0m\n\u001b[1;32m     58\u001b[0m             \u001b[0mprint\u001b[0m\u001b[0;34m(\u001b[0m\u001b[0;34mf'{block_name} not found in text'\u001b[0m\u001b[0;34m)\u001b[0m\u001b[0;34m\u001b[0m\u001b[0;34m\u001b[0m\u001b[0m\n\u001b[1;32m     59\u001b[0m             \u001b[0;32mraise\u001b[0m\u001b[0;34m\u001b[0m\u001b[0;34m\u001b[0m\u001b[0m\n\u001b[0;32m---> 60\u001b[0;31m         \u001b[0;32mtry\u001b[0m\u001b[0;34m:\u001b[0m \u001b[0mdata\u001b[0m\u001b[0;34m=\u001b[0m\u001b[0mgetattr\u001b[0m\u001b[0;34m(\u001b[0m\u001b[0mself\u001b[0m\u001b[0;34m.\u001b[0m\u001b[0mblock_format\u001b[0m\u001b[0;34m,\u001b[0m\u001b[0mblock_name\u001b[0m\u001b[0;34m)\u001b[0m\u001b[0;34m(\u001b[0m\u001b[0mtext\u001b[0m\u001b[0;34m)\u001b[0m\u001b[0;34m\u001b[0m\u001b[0;34m\u001b[0m\u001b[0m\n\u001b[0m\u001b[1;32m     61\u001b[0m         \u001b[0;32mexcept\u001b[0m \u001b[0mAttributeError\u001b[0m\u001b[0;34m:\u001b[0m\u001b[0;34m\u001b[0m\u001b[0;34m\u001b[0m\u001b[0m\n\u001b[1;32m     62\u001b[0m             \u001b[0mprint\u001b[0m\u001b[0;34m(\u001b[0m\u001b[0;34mf'Load method for {block_name} not found in block_format'\u001b[0m\u001b[0;34m)\u001b[0m\u001b[0;34m\u001b[0m\u001b[0;34m\u001b[0m\u001b[0m\n",
      "\u001b[0;31mAttributeError\u001b[0m: type object 'ReadNToolsSpectr' has no attribute 'SMINPUTS'"
     ]
    }
   ],
   "source": [
    "spec.BLOCK.SMINPUTS"
   ]
  },
  {
   "cell_type": "code",
   "execution_count": 34,
   "metadata": {},
   "outputs": [
    {
     "data": {
      "text/plain": [
       "command.nexus.NMSSMTools.ReadNToolsSpectr"
      ]
     },
     "execution_count": 34,
     "metadata": {},
     "output_type": "execute_result"
    }
   ],
   "source": [
    "spec.block_format"
   ]
  },
  {
   "cell_type": "code",
   "execution_count": 35,
   "metadata": {},
   "outputs": [
    {
     "data": {
      "text/plain": [
       "[' Higgs soft masses >> Msusy\\n',\n",
       " ' Muon magn. mom. more than 2 sigma away\\n',\n",
       " ' No Higgs in the 122.1-128.1 GeV mass range\\n',\n",
       " ' b -> c tau nu more than 2 sigma away (as SM)\\n',\n",
       " ' k_bot(H_SM) more than 2 sigma away (as SM)\\n',\n",
       " ' k_tau(H_SM) more than 2 sigma away (as SM)\\n']"
      ]
     },
     "execution_count": 35,
     "metadata": {},
     "output_type": "execute_result"
    }
   ],
   "source": [
    "spec.constraints"
   ]
  },
  {
   "cell_type": "code",
   "execution_count": 37,
   "metadata": {},
   "outputs": [
    {
     "data": {
      "text/plain": [
       "{0: 1000.0, 3: 55.0}"
      ]
     },
     "execution_count": 37,
     "metadata": {},
     "output_type": "execute_result"
    }
   ],
   "source": [
    "spec.BLOCK.MINPAR"
   ]
  },
  {
   "cell_type": "code",
   "execution_count": 43,
   "metadata": {
    "scrolled": true
   },
   "outputs": [
    {
     "name": "stdout",
     "output_type": "stream",
     "text": [
      "Wrong Key: _ipython_canary_method_should_not_exist_\n",
      "argument \"p_str\" should be p{PDG} like p24 for Z decay\n",
      "Wrong Key: _ipython_display_\n",
      "argument \"p_str\" should be p{PDG} like p24 for Z decay\n",
      "Wrong Key: _ipython_canary_method_should_not_exist_\n",
      "argument \"p_str\" should be p{PDG} like p24 for Z decay\n",
      "Wrong Key: _repr_mimebundle_\n",
      "argument \"p_str\" should be p{PDG} like p24 for Z decay\n",
      "Wrong Key: _ipython_canary_method_should_not_exist_\n",
      "argument \"p_str\" should be p{PDG} like p24 for Z decay\n",
      "Wrong Key: _repr_html_\n",
      "argument \"p_str\" should be p{PDG} like p24 for Z decay\n",
      "Wrong Key: _ipython_canary_method_should_not_exist_\n",
      "argument \"p_str\" should be p{PDG} like p24 for Z decay\n",
      "Wrong Key: _repr_markdown_\n",
      "argument \"p_str\" should be p{PDG} like p24 for Z decay\n",
      "Wrong Key: _ipython_canary_method_should_not_exist_\n",
      "argument \"p_str\" should be p{PDG} like p24 for Z decay\n",
      "Wrong Key: _repr_svg_\n",
      "argument \"p_str\" should be p{PDG} like p24 for Z decay\n",
      "Wrong Key: _ipython_canary_method_should_not_exist_\n",
      "argument \"p_str\" should be p{PDG} like p24 for Z decay\n",
      "Wrong Key: _repr_png_\n",
      "argument \"p_str\" should be p{PDG} like p24 for Z decay\n",
      "Wrong Key: _ipython_canary_method_should_not_exist_\n",
      "argument \"p_str\" should be p{PDG} like p24 for Z decay\n",
      "Wrong Key: _repr_pdf_\n",
      "argument \"p_str\" should be p{PDG} like p24 for Z decay\n",
      "Wrong Key: _ipython_canary_method_should_not_exist_\n",
      "argument \"p_str\" should be p{PDG} like p24 for Z decay\n",
      "Wrong Key: _repr_jpeg_\n",
      "argument \"p_str\" should be p{PDG} like p24 for Z decay\n",
      "Wrong Key: _ipython_canary_method_should_not_exist_\n",
      "argument \"p_str\" should be p{PDG} like p24 for Z decay\n",
      "Wrong Key: _repr_latex_\n",
      "argument \"p_str\" should be p{PDG} like p24 for Z decay\n",
      "Wrong Key: _ipython_canary_method_should_not_exist_\n",
      "argument \"p_str\" should be p{PDG} like p24 for Z decay\n",
      "Wrong Key: _repr_json_\n",
      "argument \"p_str\" should be p{PDG} like p24 for Z decay\n",
      "Wrong Key: _ipython_canary_method_should_not_exist_\n",
      "argument \"p_str\" should be p{PDG} like p24 for Z decay\n",
      "Wrong Key: _repr_javascript_\n",
      "argument \"p_str\" should be p{PDG} like p24 for Z decay\n"
     ]
    },
    {
     "data": {
      "text/plain": [
       "<command.DataProcessing.SLHA.SLHA_decay.SLHA_decay at 0x7fab597fbeb8>"
      ]
     },
     "execution_count": 43,
     "metadata": {},
     "output_type": "execute_result"
    }
   ],
   "source": [
    "spec.DECAY"
   ]
  },
  {
   "cell_type": "markdown",
   "metadata": {},
   "source": [
    "### PoolRead"
   ]
  },
  {
   "cell_type": "code",
   "execution_count": 1,
   "metadata": {},
   "outputs": [],
   "source": [
    "%load_ext autoreload\n",
    "%autoreload 2\n",
    "\n",
    "import sys,pandas,os\n",
    "sys.path.append('/home/heyangle/Desktop/ScanCraft/ScanCraft')\n",
    "from command.nexus.NMSSMTools import ReadNToolsOutput,NToolsOutput\n",
    "from command.DataProcessing import SLHA_text,SLHA_document\n",
    "from multiprocessing import Pool\n",
    "def read_spectr(spectr_dir):\n",
    "    SLHAtext=NToolsOutput(spectr_dir,\n",
    "                                ignore=[ 'Landau Pole'#27\n",
    "                                ,'Excluded by LUX'\n",
    "                                ,'Relic density'\n",
    "                                ,'Muon magn'#37\n",
    "                                ,'b -> c tau nu'#58 always keep alive\n",
    "                                ])\n",
    "    mh=SLHAtext('MASS',25)\n",
    "    print(f'{spectr_dir} Read\\nMh={mh}')\n",
    "    return SLHAtext"
   ]
  },
  {
   "cell_type": "code",
   "execution_count": 13,
   "metadata": {},
   "outputs": [
    {
     "data": {
      "text/plain": [
       "2594"
      ]
     },
     "execution_count": 13,
     "metadata": {},
     "output_type": "execute_result"
    }
   ],
   "source": [
    "spectrs=[]\n",
    "spec_path='/home/heyangle/Desktop/MuonGm2/results/result_from_run1/data0/'\n",
    "for f in os.listdir(spec_path):\n",
    "#     print(f)\n",
    "    if 'spectr'==f[:6]:\n",
    "        spectrs.append(spec_path+'/'+f)\n",
    "len(spectrs)"
   ]
  },
  {
   "cell_type": "code",
   "execution_count": 14,
   "metadata": {},
   "outputs": [
    {
     "name": "stdout",
     "output_type": "stream",
     "text": [
      "/home/heyangle/Desktop/MuonGm2/results/result_from_run1/data0//spectr.dat.834 Read\n",
      "Mh=117.880529\n"
     ]
    },
    {
     "data": {
      "text/plain": [
       "117.880529"
      ]
     },
     "execution_count": 14,
     "metadata": {},
     "output_type": "execute_result"
    }
   ],
   "source": [
    "r=read_spectr(spectrs[0])\n",
    "r('MASS',25)"
   ]
  },
  {
   "cell_type": "code",
   "execution_count": 15,
   "metadata": {},
   "outputs": [
    {
     "name": "stdout",
     "output_type": "stream",
     "text": [
      "/home/heyangle/Desktop/MuonGm2/results/result_from_run1/data0//spectr.dat.10571 Read\n",
      "Mh=124.208233/home/heyangle/Desktop/MuonGm2/results/result_from_run1/data0//spectr.dat.834 Read\n",
      "Mh=117.880529\n",
      "\n",
      "/home/heyangle/Desktop/MuonGm2/results/result_from_run1/data0//spectr.dat.2131 Read\n",
      "Mh=126.4213/home/heyangle/Desktop/MuonGm2/results/result_from_run1/data0//spectr.dat.4329 Read\n",
      "Mh=121.306432\n",
      "/home/heyangle/Desktop/MuonGm2/results/result_from_run1/data0//spectr.dat.11407 Read\n",
      "Mh=121.729355\n",
      "/home/heyangle/Desktop/MuonGm2/results/result_from_run1/data0//spectr.dat.10959 Read\n",
      "Mh=118.312254\n",
      "/home/heyangle/Desktop/MuonGm2/results/result_from_run1/data0//spectr.dat.8330 Read\n",
      "Mh=128.977646\n",
      "/home/heyangle/Desktop/MuonGm2/results/result_from_run1/data0//spectr.dat.8931 Read\n",
      "Mh=122.844007\n",
      "\n",
      "/home/heyangle/Desktop/MuonGm2/results/result_from_run1/data0//spectr.dat.9534 Read\n",
      "Mh=123.753652\n",
      "/home/heyangle/Desktop/MuonGm2/results/result_from_run1/data0//spectr.dat.4257 Read\n",
      "Mh=124.550707\n"
     ]
    }
   ],
   "source": [
    "with Pool(2) as P:\n",
    "    results=list(P.map(read_spectr,spectrs[:10] ))"
   ]
  },
  {
   "cell_type": "code",
   "execution_count": 16,
   "metadata": {},
   "outputs": [],
   "source": [
    "r0=results[0]"
   ]
  },
  {
   "cell_type": "code",
   "execution_count": 17,
   "metadata": {},
   "outputs": [
    {
     "data": {
      "text/plain": [
       "dict_keys(['spectr_dir', 'ignore', 'text', 'block_format', 'block_text', 'decay_text'])"
      ]
     },
     "execution_count": 17,
     "metadata": {},
     "output_type": "execute_result"
    }
   ],
   "source": [
    "r0.__dict__.keys()"
   ]
  },
  {
   "cell_type": "code",
   "execution_count": 18,
   "metadata": {},
   "outputs": [
    {
     "data": {
      "text/plain": [
       "[' No Higgs in the 122.1-128.1 GeV mass range\\n',\n",
       " ' k_bot(H_SM) more than 2 sigma away (as SM)\\n',\n",
       " ' k_tau(H_SM) more than 2 sigma away (as SM)\\n']"
      ]
     },
     "execution_count": 18,
     "metadata": {},
     "output_type": "execute_result"
    }
   ],
   "source": [
    "r0.constraints"
   ]
  },
  {
   "cell_type": "code",
   "execution_count": 20,
   "metadata": {},
   "outputs": [
    {
     "data": {
      "text/plain": [
       "0.711802902"
      ]
     },
     "execution_count": 20,
     "metadata": {},
     "output_type": "execute_result"
    }
   ],
   "source": [
    "r0('DECAY',25,(5,-5))"
   ]
  },
  {
   "cell_type": "code",
   "execution_count": 21,
   "metadata": {
    "scrolled": true
   },
   "outputs": [
    {
     "data": {
      "text/plain": [
       "dict_keys(['spectr_dir', 'ignore', 'text', 'block_format', 'block_text', 'decay_text', 'BLOCK', 'DECAY'])"
      ]
     },
     "execution_count": 21,
     "metadata": {},
     "output_type": "execute_result"
    }
   ],
   "source": [
    "r0.__dict__.keys()"
   ]
  },
  {
   "cell_type": "code",
   "execution_count": 12,
   "metadata": {},
   "outputs": [
    {
     "data": {
      "text/plain": [
       "mappingproxy({'__module__': 'command.DataProcessing.SLHA.SLHA_document',\n",
       "              '__doc__': 'extracted messages from SLHA file',\n",
       "              '__init__': <function command.DataProcessing.SLHA.SLHA_document.SLHA_text.__init__(self, text, block_format=<class 'command.DataProcessing.SLHA.SLHA_block.ReadBlock'>)>,\n",
       "              'block_text': <command.DataProcessing.SLHA.SLHA_document.SplitText at 0x7f4b709925c0>,\n",
       "              'decay_text': <command.DataProcessing.SLHA.SLHA_document.SplitText at 0x7f4b709925f8>,\n",
       "              'DECAY': <command.operators.object.lazyprogerty at 0x7f4b709926a0>,\n",
       "              'BLOCK': <command.operators.object.lazyprogerty at 0x7f4b709926d8>,\n",
       "              '__call__': <function command.DataProcessing.SLHA.SLHA_document.SLHA_text.__call__(self, name, *code)>,\n",
       "              '__dict__': <attribute '__dict__' of 'SLHA_text' objects>,\n",
       "              '__weakref__': <attribute '__weakref__' of 'SLHA_text' objects>})"
      ]
     },
     "execution_count": 12,
     "metadata": {},
     "output_type": "execute_result"
    }
   ],
   "source": [
    "SLHA_text.__dict__"
   ]
  },
  {
   "cell_type": "code",
   "execution_count": null,
   "metadata": {},
   "outputs": [],
   "source": []
  },
  {
   "cell_type": "code",
   "execution_count": null,
   "metadata": {},
   "outputs": [],
   "source": []
  },
  {
   "cell_type": "code",
   "execution_count": 1,
   "metadata": {},
   "outputs": [],
   "source": [
    "%matplotlib inline\n",
    "%load_ext autoreload\n",
    "%autoreload 2\n",
    "\n",
    "import sys,pandas,os\n",
    "sys.path.append('/home/heyangle/Desktop/ScanCraft/ScanCraft')\n",
    "sys.path.append('/home/vooum/Desktop/ScanCraft/ScanCraft')\n",
    "sys.path.append('C://Users//vooum//Desktop//ScanCraft//ScanCraft')"
   ]
  },
  {
   "cell_type": "markdown",
   "metadata": {},
   "source": [
    "# SLHA_document"
   ]
  },
  {
   "cell_type": "code",
   "execution_count": 41,
   "metadata": {},
   "outputs": [],
   "source": [
    "from command.DataProcessing import SLHA_document\n",
    "s=SLHA_document('spectr.dat')"
   ]
  },
  {
   "cell_type": "code",
   "execution_count": 42,
   "metadata": {},
   "outputs": [
    {
     "data": {
      "text/plain": [
       "dict_keys(['path', 'block_format', 'text', 'current_line_number', 'menu', '_BLOCK', '_DECAY'])"
      ]
     },
     "execution_count": 42,
     "metadata": {},
     "output_type": "execute_result"
    }
   ],
   "source": [
    "s.__dict__.keys()"
   ]
  },
  {
   "cell_type": "code",
   "execution_count": 43,
   "metadata": {},
   "outputs": [
    {
     "data": {
      "text/plain": [
       "dict_keys(['head', 'FTMHSUSY', 'TERC', 'SPINFO', 'MODSEL', 'SMINPUTS', 'MINPAR', 'EXTPAR', 'MASS', 'TRILEP', 'LOWEN', 'HMIX', 'NMHMIX', 'NMAMIX', 'STOPMIX', 'SBOTMIX', 'STAUMIX', 'NMNMIX', 'UMIX', 'VMIX', 'REDCOUP', 'HIGGSCOUPLINGSBOSONS', 'HIGGSCOUPLINGSFERMIONS', 'GAUGE', 'YU', 'YD', 'YE', 'AU', 'TU', 'AD', 'TD', 'AE', 'TE', 'MSOFT', 'NMSSMRUN', 'MSQ2', 'MSU2', 'MSD2', 'MSL2', 'MSE2', 'USQMIX', 'DSQMIX', 'SELMIX', 'GUTGAUGE', 'GUTYU', 'GUTYD', 'GUTYE', 'GUTAU', 'GUTAD', 'GUTAE', 'GUTMSOFT', 'GUTNMSSMRUN', 'LHCCROSSSECTIONS', 'LHCFIT', 'EFFECTIVE_COUPLINGS', 'DCINFO'])"
      ]
     },
     "execution_count": 43,
     "metadata": {},
     "output_type": "execute_result"
    }
   ],
   "source": [
    "s.block_dict.keys()"
   ]
  },
  {
   "cell_type": "code",
   "execution_count": 44,
   "metadata": {},
   "outputs": [
    {
     "data": {
      "text/plain": [
       "'spectr.dat'"
      ]
     },
     "execution_count": 44,
     "metadata": {},
     "output_type": "execute_result"
    }
   ],
   "source": [
    "s.path"
   ]
  },
  {
   "cell_type": "code",
   "execution_count": 45,
   "metadata": {},
   "outputs": [
    {
     "data": {
      "text/plain": [
       "dict_keys(['__module__', '__doc__', 'MINPAR', 'EXTPAR', 'NMSSMRUN', 'MSOFT', 'MASS', 'SPHENOLOWENERGY', 'FLAVORKITQFV', 'LHCFIT', 'FINETUNING', 'ABUNDANCE', 'LSP', 'NDMCROSSSECT', 'INDIRECT_CHISQUARES', 'MSD2', 'MSE2', 'MSL2', 'MSQ2', 'MSU2', 'NMHMIX', 'NMAMIX', 'STOPMIX', 'NMNMIX', 'UMIX', 'VMIX', 'TD', 'TE', 'TU', 'MUX', 'MV2', 'MX2', 'YV', 'TV', 'BMUX', 'LAMN', 'TLAMN', 'YE', 'YU', 'YD', 'HIGGSLHC13', 'HIGGSLHC14', 'REDCOUP'])"
      ]
     },
     "execution_count": 45,
     "metadata": {},
     "output_type": "execute_result"
    }
   ],
   "source": [
    "s.block_format.__dict__.keys()"
   ]
  },
  {
   "cell_type": "code",
   "execution_count": 46,
   "metadata": {},
   "outputs": [
    {
     "data": {
      "text/plain": [
       "dict_keys(['head', 'FTMHSUSY', 'TERC', 'SPINFO', 'MODSEL', 'SMINPUTS', 'MINPAR', 'EXTPAR', 'MASS', 'TRILEP', 'LOWEN', 'HMIX', 'NMHMIX', 'NMAMIX', 'STOPMIX', 'SBOTMIX', 'STAUMIX', 'NMNMIX', 'UMIX', 'VMIX', 'REDCOUP', 'HIGGSCOUPLINGSBOSONS', 'HIGGSCOUPLINGSFERMIONS', 'GAUGE', 'YU', 'YD', 'YE', 'AU', 'TU', 'AD', 'TD', 'AE', 'TE', 'MSOFT', 'NMSSMRUN', 'MSQ2', 'MSU2', 'MSD2', 'MSL2', 'MSE2', 'USQMIX', 'DSQMIX', 'SELMIX', 'GUTGAUGE', 'GUTYU', 'GUTYD', 'GUTYE', 'GUTAU', 'GUTAD', 'GUTAE', 'GUTMSOFT', 'GUTNMSSMRUN', 'LHCCROSSSECTIONS', 'LHCFIT', 'EFFECTIVE_COUPLINGS', 'DCINFO', 25, 35, 45, 36, 46, 37, 6, 24, 23, 1000024, 1000037, 1000022, 1000023, 1000025, 1000035, 1000045, 1000021, 1000011, 2000011, 1000013, 2000013, 1000015, 2000015, 1000012, 1000014, 1000016, 1000002, 2000002, 1000001, 2000001, 1000004, 2000004, 1000003, 2000003, 1000006, 2000006, 1000005, 2000005])"
      ]
     },
     "execution_count": 46,
     "metadata": {},
     "output_type": "execute_result"
    }
   ],
   "source": [
    "s.menu.keys()"
   ]
  },
  {
   "cell_type": "code",
   "execution_count": 47,
   "metadata": {},
   "outputs": [
    {
     "data": {
      "text/plain": [
       "1000.0"
      ]
     },
     "execution_count": 47,
     "metadata": {},
     "output_type": "execute_result"
    }
   ],
   "source": [
    "s('MINPAR',0)"
   ]
  },
  {
   "cell_type": "code",
   "execution_count": 48,
   "metadata": {},
   "outputs": [
    {
     "data": {
      "text/plain": [
       "1.96078304e-05"
      ]
     },
     "execution_count": 48,
     "metadata": {},
     "output_type": "execute_result"
    }
   ],
   "source": [
    "s('DECAY',35,(5,-5))"
   ]
  },
  {
   "cell_type": "code",
   "execution_count": 49,
   "metadata": {},
   "outputs": [
    {
     "data": {
      "text/plain": [
       "{'WIDTH': 0.256914999,\n",
       " (21, 21): 0.000135441614,\n",
       " (11, -11): 2.42014498e-17,\n",
       " (13, -13): 1.03468745e-12,\n",
       " (15, -15): 1.96629266e-08,\n",
       " (4, -4): 2.21771701e-05,\n",
       " (5, -5): 1.96078304e-05,\n",
       " (6, -6): 0.100027564,\n",
       " (24, -24): 0.439432934,\n",
       " (23, 23): 0.215315353,\n",
       " (22, 22): 1.17728305e-08,\n",
       " (23, 22): 1.3397972e-06,\n",
       " (25, 25): 0.245045552}"
      ]
     },
     "execution_count": 49,
     "metadata": {},
     "output_type": "execute_result"
    }
   ],
   "source": [
    "s('DECAY',35)"
   ]
  },
  {
   "cell_type": "code",
   "execution_count": 16,
   "metadata": {},
   "outputs": [
    {
     "data": {
      "text/plain": [
       "'HIGGSCOUPLINGSBOSONS'"
      ]
     },
     "execution_count": 16,
     "metadata": {},
     "output_type": "execute_result"
    }
   ],
   "source": [
    "'HiggsCouplingsBosons'.upper()"
   ]
  },
  {
   "cell_type": "code",
   "execution_count": 17,
   "metadata": {},
   "outputs": [
    {
     "data": {
      "text/plain": [
       "dict_keys(['__module__', '__doc__', 'MINPAR', 'EXTPAR', 'NMSSMRUN', 'MSOFT', 'MASS', 'SPHENOLOWENERGY', 'FLAVORKITQFV', 'LHCFIT', 'FINETUNING', 'ABUNDANCE', 'LSP', 'NDMCROSSSECT', 'INDIRECT_CHISQUARES', 'MSD2', 'MSE2', 'MSL2', 'MSQ2', 'MSU2', 'NMHMIX', 'NMAMIX', 'STOPMIX', 'NMNMIX', 'UMIX', 'VMIX', 'TD', 'TE', 'TU', 'MUX', 'MV2', 'MX2', 'YV', 'TV', 'BMUX', 'LAMN', 'TLAMN', 'YE', 'YU', 'YD', 'HIGGSLHC13', 'HIGGSLHC14', 'REDCOUP'])"
      ]
     },
     "execution_count": 17,
     "metadata": {},
     "output_type": "execute_result"
    }
   ],
   "source": [
    "s.BLOCK.block_format.__dict__.keys()"
   ]
  },
  {
   "cell_type": "code",
   "execution_count": 20,
   "metadata": {},
   "outputs": [
    {
     "data": {
      "text/plain": [
       "dict_keys([25, 35, 45, 36, 46, 37, 6, 24, 23, 1000024, 1000037, 1000022, 1000023, 1000025, 1000035, 1000045, 1000021, 1000011, 2000011, 1000013, 2000013, 1000015, 2000015, 1000012, 1000014, 1000016, 1000002, 2000002, 1000001, 2000001, 1000004, 2000004, 1000003, 2000003, 1000006, 2000006, 1000005, 2000005])"
      ]
     },
     "execution_count": 20,
     "metadata": {},
     "output_type": "execute_result"
    }
   ],
   "source": [
    "s.DECAY.data.keys()"
   ]
  },
  {
   "cell_type": "code",
   "execution_count": 19,
   "metadata": {},
   "outputs": [],
   "source": [
    "s.DECAY.ReadDecay()"
   ]
  },
  {
   "cell_type": "code",
   "execution_count": 5,
   "metadata": {},
   "outputs": [],
   "source": [
    "from command.DataProcessing.SLHA.SLHA_block import SLHA_block\n",
    "blocks=SLHA_block(s.block_text)"
   ]
  },
  {
   "cell_type": "code",
   "execution_count": 6,
   "metadata": {},
   "outputs": [
    {
     "name": "stdout",
     "output_type": "stream",
     "text": [
      "find SPINFO\n"
     ]
    },
    {
     "data": {
      "text/plain": [
       "['BLOCK SPINFO   # Program information\\n',\n",
       " '     1   NMSSMTools # Spectrum calculator\\n',\n",
       " '     2   5.4.1      # Version number\\n',\n",
       " '     3   # Higgs soft masses >> Msusy\\n',\n",
       " '     3   # DM relic density too large\\n',\n",
       " '     3   # Muon magn. mom. more than 2 sigma away\\n',\n",
       " '     3   # No Higgs in the 122.1-128.1 GeV mass range\\n',\n",
       " '     3   # b -> c tau nu more than 2 sigma away (as SM)\\n',\n",
       " '     3   # k_bot(H_SM) more than 2 sigma away (as SM)\\n',\n",
       " '     3   # k_tau(H_SM) more than 2 sigma away (as SM)\\n',\n",
       " '# Input parameters\\n']"
      ]
     },
     "execution_count": 6,
     "metadata": {},
     "output_type": "execute_result"
    }
   ],
   "source": [
    "blocks.SPINFO"
   ]
  },
  {
   "cell_type": "markdown",
   "metadata": {},
   "source": [
    "## Generate input file with SLHA"
   ]
  },
  {
   "cell_type": "code",
   "execution_count": 2,
   "metadata": {},
   "outputs": [],
   "source": [
    "from command.scan.scan import scan\n",
    "\n",
    "free=scan()\n",
    "free.AddScalar('tanB','MINPAR',3,1.,60.,value=12)\n",
    "free.AddFollower('tb','MINPAR',4,free.variable_dict['tanB'])\n",
    "free.AddDependent('dtb','MINPAR',5,func=lambda x,y:2*x+y,variables=['tb','tanB'])"
   ]
  },
  {
   "cell_type": "code",
   "execution_count": 3,
   "metadata": {},
   "outputs": [],
   "source": [
    "from command.nexus.GenerateInputFile import GenerateInputWithScan,GenerateLine"
   ]
  },
  {
   "cell_type": "code",
   "execution_count": 4,
   "metadata": {},
   "outputs": [],
   "source": [
    "with open('inp.dat','r') as inp:\n",
    "    input_mold=inp.readlines()"
   ]
  },
  {
   "cell_type": "code",
   "execution_count": 5,
   "metadata": {},
   "outputs": [],
   "source": [
    "S=GenerateInputWithScan(input_mold,free,'./new_input')"
   ]
  },
  {
   "cell_type": "code",
   "execution_count": 6,
   "metadata": {},
   "outputs": [],
   "source": [
    "S(free)"
   ]
  },
  {
   "cell_type": "code",
   "execution_count": 7,
   "metadata": {},
   "outputs": [
    {
     "name": "stdout",
     "output_type": "stream",
     "text": [
      "{'block': 'MINPAR', 'code': 3, 'code_str': '3', 'end': '\\t# TANB at MZ'}\n"
     ]
    }
   ],
   "source": [
    "for i, line in enumerate( S.generators):\n",
    "    if type(line) is GenerateLine:\n",
    "        print(S.generators[i].__dict__)"
   ]
  },
  {
   "cell_type": "code",
   "execution_count": 8,
   "metadata": {},
   "outputs": [
    {
     "data": {
      "text/plain": [
       "<command.nexus.GenerateInputFile.unchanged_line at 0x7f66be496e10>"
      ]
     },
     "execution_count": 8,
     "metadata": {},
     "output_type": "execute_result"
    }
   ],
   "source": [
    "S.generators[2]"
   ]
  },
  {
   "cell_type": "code",
   "execution_count": null,
   "metadata": {},
   "outputs": [],
   "source": []
  }
 ],
 "metadata": {
  "kernelspec": {
   "display_name": "Python 3 (ipykernel)",
   "language": "python",
   "name": "python3"
  },
  "language_info": {
   "codemirror_mode": {
    "name": "ipython",
    "version": 3
   },
   "file_extension": ".py",
   "mimetype": "text/x-python",
   "name": "python",
   "nbconvert_exporter": "python",
   "pygments_lexer": "ipython3",
   "version": "3.8.10"
  }
 },
 "nbformat": 4,
 "nbformat_minor": 4
}
